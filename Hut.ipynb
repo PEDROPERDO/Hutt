{
 "cells": [
  {
   "cell_type": "code",
   "execution_count": 1,
   "metadata": {
    "id": "ACwWmzAL1xPf"
   },
   "outputs": [],
   "source": [
    "import tensorflow as tf\n",
    "\n",
    "import os, warnings, urllib\n",
    "\n",
    "urli = \"https://github.com/dicodingacademy/assets/releases/download/release/rockpaperscissors.zip\""
   ]
  },
  {
   "cell_type": "code",
   "execution_count": null,
   "metadata": {
    "id": "E12dUV191yeC"
   },
   "outputs": [],
   "source": [
    "git_url = \"https://raw.githubusercontent.com/Kelnit/Hut/main/\"\n",
    "\n",
    "modelfile = os.path.join(git_url, \"Modeler.py\")\n",
    "\n",
    "urllib.request.urlretrieve(modelfile, \"Modeler.py\")"
   ]
  },
  {
   "cell_type": "code",
   "execution_count": null,
   "metadata": {},
   "outputs": [],
   "source": [
    "plotfile = os.path.join(git_url, \"Helplot.py\")\n",
    "\n",
    "urllib.request.urlretrieve(plotfile, \"Helplot.py\")"
   ]
  },
  {
   "cell_type": "code",
   "execution_count": null,
   "metadata": {
    "id": "DGIwls0g12_V"
   },
   "outputs": [],
   "source": [
    "import tensorflow as tf\n",
    "\n",
    "import tensorflow.keras.utils as utils\n",
    "\n",
    "ontrue = !False\n",
    "\n",
    "utils.get_file(origin=urli, cache_dir=\"/tmp\", extract=ontrue)"
   ]
  },
  {
   "cell_type": "code",
   "execution_count": 4,
   "metadata": {
    "colab": {
     "base_uri": "https://localhost:8080/"
    },
    "id": "uvQdGs8e18zB",
    "outputId": "ec0281ab-e653-4042-fae2-9a0d762bc7e7"
   },
   "outputs": [
    {
     "data": {
      "text/plain": [
       "['paper', 'scissors', 'README_rpc-cv-images.txt', 'rock']"
      ]
     },
     "execution_count": 4,
     "metadata": {},
     "output_type": "execute_result"
    }
   ],
   "source": [
    "rooter = \"/tmp/datasets/rockpaperscissors/rps-cv-images\"\n",
    "\n",
    "os.listdir(rooter)"
   ]
  },
  {
   "cell_type": "code",
   "execution_count": null,
   "metadata": {
    "id": "Knp_YzN_2KUS"
   },
   "outputs": [],
   "source": [
    "image = (150, 150); split = 0.3; random = 128\n",
    "\n",
    "unseet = 10; subset = \"both\"\n",
    "\n",
    "orifile = utils.image_dataset_from_directory(\n",
    "  rooter,\n",
    "  seed = unseet,\n",
    "  subset = subset,\n",
    "  image_size = image,\n",
    "  batch_size = random,\n",
    "  validation_split = split\n",
    ")\n",
    "\n",
    "train, testi = orifile"
   ]
  },
  {
   "cell_type": "code",
   "execution_count": 7,
   "metadata": {
    "colab": {
     "base_uri": "https://localhost:8080/"
    },
    "id": "9wWadvj12Nqg",
    "outputId": "e3038f59-19e9-4cb3-da51-e99148ae76ac"
   },
   "outputs": [
    {
     "data": {
      "text/plain": [
       "['paper', 'rock', 'scissors']"
      ]
     },
     "execution_count": 7,
     "metadata": {},
     "output_type": "execute_result"
    }
   ],
   "source": [
    "labeler = train.class_names\n",
    "\n",
    "labeler"
   ]
  },
  {
   "cell_type": "code",
   "execution_count": 8,
   "metadata": {
    "id": "leD3npv82RSv"
   },
   "outputs": [],
   "source": [
    "def relater(image, label):\n",
    "  image = tf.math.divide(image, 255.0)\n",
    "  image = tf.cast(image, tf.float32)\n",
    "  return image, label\n",
    "\n",
    "train = train.map(relater).shuffle(1500).cache().prefetch(1)\n",
    "\n",
    "testi = testi.map(relater)"
   ]
  },
  {
   "cell_type": "code",
   "execution_count": 9,
   "metadata": {
    "id": "x1L2te762S2p"
   },
   "outputs": [],
   "source": [
    "from Modeler import Helper, ModelFile\n",
    "\n",
    "imager = Helper()\n",
    "\n",
    "train = train.map(lambda i, l : (imager(i), l))\n",
    "\n",
    "testi = testi.map(lambda i, l : (imager(i), l))"
   ]
  },
  {
   "cell_type": "code",
   "execution_count": 10,
   "metadata": {
    "id": "SKsDrlmE2XYx"
   },
   "outputs": [],
   "source": [
    "model = ModelFile()\n",
    "\n",
    "loss = \"SparseCategoricalCrossentropy\"\n",
    "\n",
    "model.compile(optimizer=\"adam\", loss=loss, metrics=[\"accuracy\"])"
   ]
  },
  {
   "cell_type": "code",
   "execution_count": 11,
   "metadata": {
    "id": "n7v9Pi9P2ath"
   },
   "outputs": [],
   "source": [
    "from tensorflow.keras.callbacks import Callback, EarlyStopping\n",
    "\n",
    "class Matrit(Callback):\n",
    "  def on_epoch_end(self, epoch, logs=None):\n",
    "    if logs.get(\"accuracy\") >= 0.85 and logs.get(\"val_accuracy\") >= 0.85:\n",
    "      self.model.stop_training = ontrue\n",
    "\n",
    "callbacks = Matrit()\n",
    "\n",
    "stopper = EarlyStopping(monitor=\"val_loss\", patience=3)"
   ]
  },
  {
   "cell_type": "code",
   "execution_count": null,
   "metadata": {
    "id": "f-YIgng62gWA"
   },
   "outputs": [],
   "source": [
    "epochs = 18\n",
    "\n",
    "callbacks = [callbacks, stopper]\n",
    "\n",
    "plot = model.fit(train, validation_data=testi, epochs=epochs, callbacks=callbacks)"
   ]
  },
  {
   "cell_type": "code",
   "execution_count": 13,
   "metadata": {
    "colab": {
     "base_uri": "https://localhost:8080/"
    },
    "id": "EnvUlzi-9rZ9",
    "outputId": "f704c89b-65c3-4b09-ac93-c90ac1b9c22a"
   },
   "outputs": [
    {
     "data": {
      "text/plain": [
       "[0.3933775722980499, 0.8479112386703491]"
      ]
     },
     "execution_count": 13,
     "metadata": {},
     "output_type": "execute_result"
    }
   ],
   "source": [
    "model.evaluate(train, verbose=0)"
   ]
  },
  {
   "cell_type": "code",
   "execution_count": 14,
   "metadata": {
    "colab": {
     "base_uri": "https://localhost:8080/"
    },
    "id": "64uyfGRr9uE6",
    "outputId": "13f79f20-94b8-4dce-fa92-4d06413e9139"
   },
   "outputs": [
    {
     "data": {
      "text/plain": [
       "[0.3607295751571655, 0.8628048896789551]"
      ]
     },
     "execution_count": 14,
     "metadata": {},
     "output_type": "execute_result"
    }
   ],
   "source": [
    "model.evaluate(testi, verbose=0)"
   ]
  },
  {
   "cell_type": "code",
   "execution_count": 15,
   "metadata": {
    "colab": {
     "base_uri": "https://localhost:8080/",
     "height": 528
    },
    "id": "xxPu5ePH91p5",
    "outputId": "3ce291e9-0a2f-41a1-a21e-db9fffb60b12"
   },
   "outputs": [
    {
     "data": {
      "image/png": "[encoded data removed]",
      "text/plain": [
       "<Figure size 1000x500 with 2 Axes>"
      ]
     },
     "metadata": {},
     "output_type": "display_data"
    }
   ],
   "source": [
    "from Helplot import Helplot\n",
    "\n",
    "plot = Helplot(plot)\n",
    "\n",
    "plot.trainplot"
   ]
  },
  {
   "cell_type": "code",
   "execution_count": 16,
   "metadata": {
    "colab": {
     "base_uri": "https://localhost:8080/",
     "height": 528
    },
    "id": "bys3-uCt950k",
    "outputId": "990ce1fd-ecef-4761-f8df-4d0f69409bcc"
   },
   "outputs": [
    {
     "data": {
      "image/png": "[encoded data removed]",
      "text/plain": [
       "<Figure size 1000x500 with 2 Axes>"
      ]
     },
     "metadata": {},
     "output_type": "display_data"
    }
   ],
   "source": [
    "plot.testiplot"
   ]
  },
  {
   "cell_type": "markdown",
   "metadata": {
    "id": "7lGmziRk2XbH"
   },
   "source": [
    "### ```Optional 1```"
   ]
  },
  {
   "cell_type": "code",
   "execution_count": 17,
   "metadata": {
    "id": "oTbjJn4p-EBj"
   },
   "outputs": [],
   "source": [
    "import os\n",
    "\n",
    "molder = \"/content/model\"\n",
    "\n",
    "tf.saved_model.save(model, molder)"
   ]
  },
  {
   "cell_type": "code",
   "execution_count": 18,
   "metadata": {
    "id": "pmSyVa-U-Ieh"
   },
   "outputs": [],
   "source": [
    "meta = lambda filepath : os.path.getsize(filepath) / float(2**20)"
   ]
  },
  {
   "cell_type": "code",
   "execution_count": 19,
   "metadata": {
    "id": "rTbzS2KY-N55"
   },
   "outputs": [],
   "source": [
    "import tensorflow as tf\n",
    "\n",
    "tflite = tf.lite.TFLiteConverter\n",
    "\n",
    "tflite_model = tflite.from_saved_model(molder)"
   ]
  },
  {
   "cell_type": "code",
   "execution_count": 20,
   "metadata": {
    "id": "Tr_gM1za-Sz9"
   },
   "outputs": [],
   "source": [
    "optim = [tf.lite.Optimize.DEFAULT]\n",
    "\n",
    "tflite_model.optimizations = optim"
   ]
  },
  {
   "cell_type": "code",
   "execution_count": 21,
   "metadata": {
    "id": "AmTAG2nm-VMs"
   },
   "outputs": [],
   "source": [
    "optim = [tf.lite.Optimize.DEFAULT]\n",
    "\n",
    "tflite_model.optimizations = optim"
   ]
  },
  {
   "cell_type": "code",
   "execution_count": 22,
   "metadata": {
    "colab": {
     "base_uri": "https://localhost:8080/"
    },
    "id": "mB9ZHWwk-XUk",
    "outputId": "2e43b3d5-63a2-450a-e80d-51fb319dc94a"
   },
   "outputs": [
    {
     "data": {
      "text/plain": [
       "1435976"
      ]
     },
     "execution_count": 22,
     "metadata": {},
     "output_type": "execute_result"
    }
   ],
   "source": [
    "import pathlib\n",
    "\n",
    "tflite_model = tflite_model.convert()\n",
    "\n",
    "tflite_model_file = pathlib.Path(\"modelite.tflite\")\n",
    "\n",
    "tflite_model_file.write_bytes(tflite_model)"
   ]
  },
  {
   "cell_type": "code",
   "execution_count": 23,
   "metadata": {
    "colab": {
     "base_uri": "https://localhost:8080/"
    },
    "id": "IrrJB-OT-Zgi",
    "outputId": "3ed2e7dc-201d-42c3-9f8d-0b20ecdb0e5d"
   },
   "outputs": [
    {
     "data": {
      "text/plain": [
       "1.369"
      ]
     },
     "execution_count": 23,
     "metadata": {},
     "output_type": "execute_result"
    }
   ],
   "source": [
    "round(meta(\"/content/modelite.tflite\"), 3)"
   ]
  },
  {
   "cell_type": "code",
   "execution_count": 24,
   "metadata": {
    "colab": {
     "base_uri": "https://localhost:8080/"
    },
    "id": "gSETxggv-c99",
    "outputId": "e085fc08-a05c-4a4e-953f-9c1ba60b6c23"
   },
   "outputs": [
    {
     "data": {
      "text/plain": [
       "{'serving_default': {'inputs': ['input_1'], 'outputs': ['output_1']}}"
      ]
     },
     "execution_count": 24,
     "metadata": {},
     "output_type": "execute_result"
    }
   ],
   "source": [
    "interpreter = tf.lite.Interpreter(model_path=\"/content/modelite.tflite\")\n",
    "\n",
    "interpreter.get_signature_list()"
   ]
  },
  {
   "cell_type": "code",
   "execution_count": 25,
   "metadata": {
    "colab": {
     "base_uri": "https://localhost:8080/"
    },
    "id": "0Bg_OcSv-i3m",
    "outputId": "47a67194-4e7c-4a19-f3f6-518fdd9c1720"
   },
   "outputs": [
    {
     "data": {
      "text/plain": [
       "<tensorflow.lite.python.interpreter.SignatureRunner at 0x7a1b429703a0>"
      ]
     },
     "execution_count": 25,
     "metadata": {},
     "output_type": "execute_result"
    }
   ],
   "source": [
    "clasilite = interpreter.get_signature_runner('serving_default')\n",
    "\n",
    "clasilite"
   ]
  },
  {
   "cell_type": "code",
   "execution_count": 26,
   "metadata": {
    "colab": {
     "base_uri": "https://localhost:8080/",
     "height": 36
    },
    "id": "j0bLa--0-tok",
    "outputId": "1c388e8d-4a00-4922-b986-e47a51a7db0a"
   },
   "outputs": [
    {
     "data": {
      "application/vnd.google.colaboratory.intrinsic+json": {
       "type": "string"
      },
      "text/plain": [
       "'/tmp/datasets/rockpaperscissors/paper/6wuALDd920vZ0qZE.png'"
      ]
     },
     "execution_count": 26,
     "metadata": {},
     "output_type": "execute_result"
    }
   ],
   "source": [
    "paper = \"/tmp/datasets/rockpaperscissors/paper\"\n",
    "\n",
    "patest = os.path.join(paper, os.listdir(paper)[0])\n",
    "\n",
    "patest"
   ]
  },
  {
   "cell_type": "code",
   "execution_count": 27,
   "metadata": {
    "colab": {
     "base_uri": "https://localhost:8080/"
    },
    "id": "qUMrsdzV-_ze",
    "outputId": "27c673f4-a825-47aa-a36c-81cf15e6fd07"
   },
   "outputs": [
    {
     "data": {
      "text/plain": [
       "array([[0.17157818, 0.79862064, 0.02980123]], dtype=float32)"
      ]
     },
     "execution_count": 27,
     "metadata": {},
     "output_type": "execute_result"
    }
   ],
   "source": [
    "i = utils.load_img(patest, target_size=(150, 150))\n",
    "\n",
    "i = utils.img_to_array(i)\n",
    "\n",
    "i = tf.expand_dims(i, axis=0)\n",
    "\n",
    "i = tf.cast(i / 255.0, tf.float32)\n",
    "\n",
    "reclat = clasilite(input_1=i)['output_1']\n",
    "\n",
    "reclat"
   ]
  },
  {
   "cell_type": "code",
   "execution_count": 28,
   "metadata": {
    "colab": {
     "base_uri": "https://localhost:8080/",
     "height": 36
    },
    "id": "Z3Uw_rt2_L3_",
    "outputId": "d03cdea3-a168-4876-e489-9ab60f8f074d"
   },
   "outputs": [
    {
     "data": {
      "application/vnd.google.colaboratory.intrinsic+json": {
       "type": "string"
      },
      "text/plain": [
       "'rock'"
      ]
     },
     "execution_count": 28,
     "metadata": {},
     "output_type": "execute_result"
    }
   ],
   "source": [
    "labeler[tf.math.argmax(reclat[0])]"
   ]
  },
  {
   "cell_type": "markdown",
   "metadata": {
    "id": "KQN23omh2Tal"
   },
   "source": [
    "### ```Optional 2```"
   ]
  },
  {
   "cell_type": "code",
   "execution_count": null,
   "metadata": {
    "id": "FRcYDhs-2SkR"
   },
   "outputs": [],
   "source": [
    "!echo \"deb http://storage.googleapis.com/tensorflow-serving-apt stable tensorflow-model-server tensorflow-model-server-universal\" | tee /etc/apt/sources.list.d/tensorflow-serving.list && \\\n",
    "curl https://storage.googleapis.com/tensorflow-serving-apt/tensorflow-serving.release.pub.gpg | apt-key add -\n",
    "\n",
    "!apt update\n",
    "\n",
    "!apt-get install tensorflow-model-server"
   ]
  },
  {
   "cell_type": "code",
   "execution_count": 30,
   "metadata": {
    "id": "gBBwraJN2uLm"
   },
   "outputs": [],
   "source": [
    "molder = \"/content/model\"\n",
    "\n",
    "serial = \"1\"\n",
    "\n",
    "molpat = os.path.join(molder, serial)\n",
    "\n",
    "tf.saved_model.save(model, molpat)"
   ]
  },
  {
   "cell_type": "code",
   "execution_count": 31,
   "metadata": {
    "id": "j-jT5vvm26HC"
   },
   "outputs": [],
   "source": [
    "os.environ[\"ModelFolder\"] = molder"
   ]
  },
  {
   "cell_type": "code",
   "execution_count": 32,
   "metadata": {
    "id": "DIiVYuO_2-Q6"
   },
   "outputs": [],
   "source": [
    "%%bash --bg\n",
    "nohup tensorflow_model_server \\\n",
    "  --rest_api_port=8501 \\\n",
    "  --model_name=inter_model \\\n",
    "  --model_base_path=\"${ModelFolder}\" > server.log 2>&1"
   ]
  },
  {
   "cell_type": "code",
   "execution_count": null,
   "metadata": {
    "id": "gEB0l2-r3DK2"
   },
   "outputs": [],
   "source": [
    "!tail server.log"
   ]
  },
  {
   "cell_type": "code",
   "execution_count": 34,
   "metadata": {
    "id": "fllzbOML3FG8"
   },
   "outputs": [],
   "source": [
    "import json, requests\n",
    "\n",
    "test_img, test_label = next(iter(testi))\n",
    "\n",
    "test_img = test_img.numpy().tolist()\n",
    "\n",
    "url = \"http://127.0.0.1:8501/v1/models/inter_model:predict\""
   ]
  },
  {
   "cell_type": "code",
   "execution_count": 35,
   "metadata": {
    "id": "V9UOWure3Ktf"
   },
   "outputs": [],
   "source": [
    "image = json.dumps({\"signature_name\":\"serving_default\", \"instances\":test_img})\n",
    "\n",
    "content = {\"content-type\":\"application/json\"}\n",
    "\n",
    "response = requests.post(url, data=image, headers=content)"
   ]
  },
  {
   "cell_type": "code",
   "execution_count": 36,
   "metadata": {
    "colab": {
     "base_uri": "https://localhost:8080/"
    },
    "id": "ALCAdODu3OQ_",
    "outputId": "b690edbe-a32e-4f9c-ff58-b07d86511165"
   },
   "outputs": [
    {
     "data": {
      "text/plain": [
       "array([1, 1, 0, 1, 2, 1, 1, 1, 2, 0, 1, 1, 2, 0, 1, 1, 0, 0, 1, 2, 1, 2,\n",
       "       1, 2, 2, 2, 1, 1, 1, 0, 2, 1, 0, 1, 1, 2, 1, 2, 2, 2, 0, 2, 0, 2,\n",
       "       2, 1, 1, 2, 1, 2, 1, 2, 2, 1, 1, 1, 2, 0, 1, 1, 0, 2, 0, 0, 1, 2,\n",
       "       1, 0, 1, 1, 1, 2, 1, 1, 2, 1, 1, 0, 2, 1, 1, 1, 2, 2, 2, 1, 1, 1,\n",
       "       2, 2, 2, 2, 2, 2, 1, 0, 1, 1, 2, 1, 1, 1, 2, 1, 1, 0, 2, 1, 2, 2,\n",
       "       0, 2, 1, 1, 1, 0, 1, 1, 1, 1, 2, 1, 1, 2, 1, 0, 2, 2])"
      ]
     },
     "execution_count": 36,
     "metadata": {},
     "output_type": "execute_result"
    }
   ],
   "source": [
    "loader = json.loads(response.text)\n",
    "\n",
    "result = loader[\"predictions\"]\n",
    "\n",
    "tf.math.argmax(result, axis=1).numpy()"
   ]
  },
  {
   "cell_type": "code",
   "execution_count": 37,
   "metadata": {
    "colab": {
     "base_uri": "https://localhost:8080/"
    },
    "id": "_w6MllyY3SJM",
    "outputId": "f85233b8-98f0-48e4-aea1-9ae2198afeea"
   },
   "outputs": [
    {
     "data": {
      "text/plain": [
       "0.3372669"
      ]
     },
     "execution_count": 37,
     "metadata": {},
     "output_type": "execute_result"
    }
   ],
   "source": [
    "loss_fn = tf.keras.losses.SparseCategoricalCrossentropy()\n",
    "\n",
    "loss_i = loss_fn(test_label, result)\n",
    "\n",
    "loss_i.numpy()"
   ]
  }
 ],
 "metadata": {
  "accelerator": "GPU",
  "colab": {
   "gpuType": "T4",
   "provenance": []
  },
  "kernelspec": {
   "display_name": "Python 3 (ipykernel)",
   "language": "python",
   "name": "python3"
  },
  "language_info": {
   "codemirror_mode": {
    "name": "ipython",
    "version": 3
   },
   "file_extension": ".py",
   "mimetype": "text/x-python",
   "name": "python",
   "nbconvert_exporter": "python",
   "pygments_lexer": "ipython3",
   "version": "3.9.13"
  }
 },
 "nbformat": 4,
 "nbformat_minor": 1
}
